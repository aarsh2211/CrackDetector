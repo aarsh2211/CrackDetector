{
 "cells": [
  {
   "cell_type": "code",
   "execution_count": 19,
   "metadata": {},
   "outputs": [],
   "source": [
    "import cv2\n",
    "import os\n",
    "import numpy as np\n",
    "import matplotlib.pyplot as plt"
   ]
  },
  {
   "cell_type": "code",
   "execution_count": 23,
   "metadata": {},
   "outputs": [
    {
     "name": "stdout",
     "output_type": "stream",
     "text": [
      "043-68.jpg\n",
      "008-172.jpg\n",
      "[1 1 1 ... 0 0 0]\n"
     ]
    }
   ],
   "source": [
    "#creating dataset\n",
    "path = os.getcwd()\n",
    "path = os.path.join(path,'images\\P')\n",
    "\n",
    "categories = ['cracks', 'nocracks']\n",
    "#appending 500 images with cracks\n",
    "pathcracks = os.path.join(path,'crackstrain')\n",
    "dataset = []\n",
    "label = []\n",
    "files =  os.listdir(pathcracks)[0:500]\n",
    "for f in files:\n",
    "    imagepath = os.path.join(pathcracks,f)\n",
    "    img = cv2.imread(imagepath)\n",
    "    #img = cv2.cvtColor(img, cv2.COLOR_BGR2GRAY)\n",
    "    \n",
    "    dataset.append(img)\n",
    "    label.append(1)\n",
    "print(f)\n",
    "\n",
    "#now loading 1500 non crack images\n",
    "pathnocracks = os.path.join(path,'nocrackstrain')\n",
    "files =  os.listdir(pathnocracks)[0:1500]\n",
    "for f in files:\n",
    "    imagepath = os.path.join(pathnocracks,f)\n",
    "    img = cv2.imread(imagepath)\n",
    "    #img = cv2.cvtColor(img, cv2.COLOR_BGR2GRAY)\n",
    "    \n",
    "    dataset.append(img)\n",
    "    label.append(0)\n",
    "print(f)\n",
    "final_dataset = np.array(dataset)\n",
    "final_label = np.array(label)\n",
    "final_dataset.shape, final_label.shape\n",
    "print(final_label)"
   ]
  },
  {
   "cell_type": "code",
   "execution_count": null,
   "metadata": {},
   "outputs": [],
   "source": [
    "#its time to do some machine learning\n",
    "import tensorflow as tf\n"
   ]
  },
  {
   "cell_type": "code",
   "execution_count": null,
   "metadata": {},
   "outputs": [],
   "source": []
  }
 ],
 "metadata": {
  "kernelspec": {
   "display_name": "Python 3",
   "language": "python",
   "name": "python3"
  },
  "language_info": {
   "codemirror_mode": {
    "name": "ipython",
    "version": 3
   },
   "file_extension": ".py",
   "mimetype": "text/x-python",
   "name": "python",
   "nbconvert_exporter": "python",
   "pygments_lexer": "ipython3",
   "version": "3.6.8"
  }
 },
 "nbformat": 4,
 "nbformat_minor": 2
}
